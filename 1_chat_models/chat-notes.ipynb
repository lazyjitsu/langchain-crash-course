{
 "cells": [
  {
   "cell_type": "markdown",
   "metadata": {},
   "source": [
    "3 types of messages:\n",
    "1. System messages - provide the subject / broad context for the conversation. E.g. 'hey you are a professinal accountant'\n",
    "2. Human messages - our messages to the AI LLM \n",
    "3. AI messages - response from the AI LLM"
   ]
  },
  {
   "cell_type": "markdown",
   "metadata": {},
   "source": []
  }
 ],
 "metadata": {
  "language_info": {
   "name": "python"
  }
 },
 "nbformat": 4,
 "nbformat_minor": 2
}
